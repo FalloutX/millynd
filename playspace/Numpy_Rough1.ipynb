{
 "cells": [
  {
   "cell_type": "markdown",
   "metadata": {},
   "source": [
    "### Numpy Rough Workspace 1\n",
    "\n"
   ]
  },
  {
   "cell_type": "code",
   "execution_count": 12,
   "metadata": {},
   "outputs": [
    {
     "name": "stdout",
     "output_type": "stream",
     "text": [
      "<type 'numpy.ndarray'>\n",
      "(3,)\n",
      "K.ndim 2\n",
      "K.shape (3, 3)\n"
     ]
    }
   ],
   "source": [
    "import numpy as np\n",
    "\n",
    "# 1d & 2d array in Numpy.\n",
    "\n",
    "J = np.array([1, 4, 9])\n",
    "print(type(J))\n",
    "print(J.shape)\n",
    "\n",
    "\n",
    "K = np.array([\n",
    "    [87, 13, 0],\n",
    "    [0, 29, 71],\n",
    "    [13, 58, 29],\n",
    "])\n",
    "\n",
    "print(\"K.ndim {}\".format(K.ndim)) #Also known as rank of the Array.\n",
    "\n",
    "print(\"K.shape {}\".format(K.shape))"
   ]
  },
  {
   "cell_type": "code",
   "execution_count": 25,
   "metadata": {},
   "outputs": [
    {
     "name": "stdout",
     "output_type": "stream",
     "text": [
      "np.zeros([4,4]) \n",
      "[[ 0.  0.  0.  0.]\n",
      " [ 0.  0.  0.  0.]\n",
      " [ 0.  0.  0.  0.]\n",
      " [ 0.  0.  0.  0.]]\n",
      "np.ones([4,4]) \n",
      "[[ 1.  1.  1.  1.]\n",
      " [ 1.  1.  1.  1.]\n",
      " [ 1.  1.  1.  1.]\n",
      " [ 1.  1.  1.  1.]]\n",
      "np.full([4,4], 7) \n",
      "[[7 7 7 7]\n",
      " [7 7 7 7]\n",
      " [7 7 7 7]\n",
      " [7 7 7 7]]\n"
     ]
    }
   ],
   "source": [
    "# Free Arrays.\n",
    "print(\"np.zeros([4,4]) \\n{}\".format(np.zeros([4, 4])))\n",
    "print(\"np.ones([4,4]) \\n{}\".format(np.ones([4, 4])))\n",
    "print(\"np.full([4,4], 7) \\n{}\".format(np.full([4, 4], 7)))"
   ]
  },
  {
   "cell_type": "code",
   "execution_count": 31,
   "metadata": {},
   "outputs": [
    {
     "name": "stdout",
     "output_type": "stream",
     "text": [
      "M \n",
      "[[91  0  0]\n",
      " [ 0 50  9]]\n",
      "L[2, 3] 30\n"
     ]
    }
   ],
   "source": [
    "# Array Indexing.\n",
    "# Creating a big big Array.\n",
    "L = np.array([\n",
    "    [9, 91, 0, 0],\n",
    "    [41, 0, 50, 9],\n",
    "    [65, 1, 4, 30],\n",
    "    [8, 32, 43, 17],\n",
    "    [-23, -24, 3, 44]\n",
    "])\n",
    "\n",
    "M = L[:2, 1:4]\n",
    "print(\"M \\n{}\".format(M)) # Getting a specific part of Array.\n",
    "print(\"L[2, 3] {}\".format(L[2, 3])) # Getting 4th element of 3rd row."
   ]
  },
  {
   "cell_type": "code",
   "execution_count": 32,
   "metadata": {},
   "outputs": [
    {
     "name": "stdout",
     "output_type": "stream",
     "text": [
      "L[0, 1] 51\n"
     ]
    }
   ],
   "source": [
    "# M[0, 0] is same as L[0, 1]\n",
    "M[0, 0] = 51\n",
    "print(\"L[0, 1] {}\".format(L[0, 1]))"
   ]
  },
  {
   "cell_type": "code",
   "execution_count": 40,
   "metadata": {},
   "outputs": [
    {
     "name": "stdout",
     "output_type": "stream",
     "text": [
      "L_row2 [41  0 50  9] with shape (4,)\n",
      "L_row2_rank2 [[41  0 50  9]] with shape (1, 4)\n",
      "L_col2 [ 51   0   1  32 -24] with shape (5,)\n",
      "L_col2_rank2 \n",
      "[[ 51]\n",
      " [  0]\n",
      " [  1]\n",
      " [ 32]\n",
      " [-24]] with shape (5, 1)\n"
     ]
    }
   ],
   "source": [
    "# Getting complete second row.\n",
    "L_row2 = L[1, :]\n",
    "print(\"L_row2 {} with shape {}\".format(L_row2, L_row2.shape))\n",
    "\n",
    "# Won't decrease the rank from 2 to 1.\n",
    "L_row2_rank2 = L[1:2, :]\n",
    "print(\"L_row2_rank2 {} with shape {}\".format(L_row2_rank2, L_row2_rank2.shape))\n",
    "\n",
    "# Getting the complete second column.\n",
    "L_col2 = L[:, 1]\n",
    "print(\"L_col2 {} with shape {}\".format(L_col2, L_col2.shape))\n",
    "\n",
    "L_col2_rank2 = L[:, 1:2]\n",
    "print(\"L_col2_rank2 \\n{} with shape {}\".format(L_col2_rank2, L_col2_rank2.shape))"
   ]
  },
  {
   "cell_type": "code",
   "execution_count": 54,
   "metadata": {},
   "outputs": [
    {
     "name": "stdout",
     "output_type": "stream",
     "text": [
      "[[  9  51   0   0]\n",
      " [ 41   0  50   9]\n",
      " [ 65   1   4  30]\n",
      " [  8  32  43  17]\n",
      " [-23 -24   3  44]]\n",
      "l_indexes1 [50 43  3]\n",
      "l_indexes2 [ 3  0 65]\n"
     ]
    }
   ],
   "source": [
    "# Integer Indexing.\n",
    "print(L)\n",
    "\n",
    "l_indexes1 = L[[1, 3, 4], [2]]\n",
    "# Explanation: This selects elements [1, 2] , [3, 2] & [4, 2]. 3rd column from \n",
    "# rows 1, 3, 4.\n",
    "print(\"l_indexes1 {}\".format(l_indexes1))\n",
    "\n",
    "l_indexes2 = L[[4, 1, 2], [2, 1, 0]]\n",
    "# Explanation: This selects elements [4, 2], [1, 1] & [2, 0]. First array selects\n",
    "# the row and the second array selects the column.\n",
    "print(\"l_indexes2 {}\".format(l_indexes2))"
   ]
  },
  {
   "cell_type": "code",
   "execution_count": 66,
   "metadata": {},
   "outputs": [
    {
     "name": "stdout",
     "output_type": "stream",
     "text": [
      "n_indexes \n",
      "[array([0, 1, 2, 3, 4]), [0, 1, 2, 1, 3]]\n",
      "n_selections \n",
      " [ 9  0  4 32 44]\n",
      "n_selections after +10 \n",
      " [19 10 14 42 54]\n"
     ]
    }
   ],
   "source": [
    "# Copying the L array into N.\n",
    "N = np.copy(L)\n",
    "n_indexes = [np.arange(5), [0, 1, 2, 1, 3]]\n",
    "# np.arange(5) gives [0, 1, 2, 3, 4]\n",
    "print(\"n_indexes \\n{}\".format(n_indexes))\n",
    "n_selections = N[n_indexes]\n",
    "print(\"n_selections \\n {}\".format(n_selections))\n",
    "\n",
    "# Manipulating all n_selections.\n",
    "n_selections += 10\n",
    "\n",
    "print(\"n_selections after +10 \\n {}\".format(n_selections))\n"
   ]
  },
  {
   "cell_type": "code",
   "execution_count": 73,
   "metadata": {},
   "outputs": [
    {
     "name": "stdout",
     "output_type": "stream",
     "text": [
      "bool_index 0 % 2 == 0 \n",
      "[[False False  True  True]\n",
      " [False  True  True False]\n",
      " [False False  True  True]\n",
      " [ True  True False False]\n",
      " [False  True False  True]]\n",
      "O[bool_index] [  0   0   0  50   4  30   8  32 -24  44]\n",
      "O[O < 10] [  9   0   0   0   9   1   4   8 -23 -24   3]\n",
      "O[O == 0] [0 0 0]\n"
     ]
    }
   ],
   "source": [
    "# Boolean Indexing\n",
    "O = np.copy(L)\n",
    "bool_index = O % 2 == 0\n",
    "\n",
    "print(\"bool_index 0 % 2 == 0 \\n{}\".format(bool_index))\n",
    "print(\"O[bool_index] {}\".format(O[bool_index]))\n",
    "# Only those elements will be selected that satisfy the condition.\n",
    "\n",
    "print(\"O[O < 10] {}\".format(O[O < 10]))\n",
    "print(\"O[O == 0] {}\".format(O[O == 0]))"
   ]
  },
  {
   "cell_type": "code",
   "execution_count": 77,
   "metadata": {},
   "outputs": [
    {
     "name": "stdout",
     "output_type": "stream",
     "text": [
      "d1.dtype int64\n",
      "d2.dtype float64\n",
      "d3.dtype float64\n"
     ]
    }
   ],
   "source": [
    "# Different Datatypes.\n",
    "d1 = np.array([[0, 1], [8, 9], [3, 4]]) # Integer Arrays\n",
    "print(\"d1.dtype {}\".format(d1.dtype))\n",
    "\n",
    "d2 = np.array([[0., 1.], [6., 4.99]]) # Float Arrays\n",
    "print(\"d2.dtype {}\".format(d2.dtype))\n",
    "\n",
    "d3 = np.array([[0, 5], [9, 7]], dtype='float64') #forced to be float arrays.\n",
    "print(\"d3.dtype {}\".format(d3.dtype))"
   ]
  },
  {
   "cell_type": "code",
   "execution_count": 87,
   "metadata": {},
   "outputs": [
    {
     "name": "stdout",
     "output_type": "stream",
     "text": [
      "a1 + a2 \n",
      "[[ 14.   8.  13.  16.]\n",
      " [ 15.   7.   4.   4.]\n",
      " [  1.  15.  13.  11.]]\n",
      "a2 - a1 \n",
      "[[  2.   2.  11.  14.]\n",
      " [  1.   9.  -2.   2.]\n",
      " [  7.  -1.   1.  -7.]]\n",
      "a1 * a2 \n",
      "[[ 48.  15.  12.  15.]\n",
      " [ 56.  -8.   3.   3.]\n",
      " [-12.  56.  42.  18.]]\n",
      "a2 / a1 \n",
      "[[  1.33333333   1.66666667  12.          15.        ]\n",
      " [  1.14285714  -8.           0.33333333   3.        ]\n",
      " [ -1.33333333   0.875        1.16666667   0.22222222]]\n",
      "np.sqrt(a2) \n",
      "[[ 2.82842712  2.23606798  3.46410162  3.87298335]\n",
      " [ 2.82842712  2.82842712  1.          1.73205081]\n",
      " [ 2.          2.64575131  2.64575131  1.41421356]]\n"
     ]
    }
   ],
   "source": [
    "# Array Math.\n",
    "\n",
    "a1 = np.array([\n",
    "    [6, 3, 1, 1],\n",
    "    [7, -1, 3, 1],\n",
    "    [-3, 8, 6, 9],\n",
    "], dtype=\"float64\")\n",
    "\n",
    "a2 = np.array([\n",
    "    [8, 5, 12, 15],\n",
    "    [8, 8, 1, 3],\n",
    "    [4, 7, 7, 2],\n",
    "], dtype=\"float64\")\n",
    "\n",
    "# All the operations are elementwise.\n",
    "print(\"a1 + a2 \\n{}\".format(a1 + a2))\n",
    "print(\"a2 - a1 \\n{}\".format(a2 - a1))\n",
    "print(\"a1 * a2 \\n{}\".format(a1 * a2))\n",
    "print(\"a2 / a1 \\n{}\".format(a2 / a1))\n",
    "print(\"np.sqrt(a2) \\n{}\".format(np.sqrt(a2)))"
   ]
  },
  {
   "cell_type": "code",
   "execution_count": 98,
   "metadata": {},
   "outputs": [
    {
     "name": "stdout",
     "output_type": "stream",
     "text": [
      "v1.dot(v2) 112\n",
      "m1.dot(v1) [ 84  78 138]\n",
      "m1.dot(m2) \n",
      "[[ 8 24 28]\n",
      " [21 36  3]\n",
      " [31  0 29]]\n"
     ]
    }
   ],
   "source": [
    "# Dot Products.\n",
    "\n",
    "# Dot Product of Vectors.\n",
    "v1 = np.array([6, 10, 4])\n",
    "v2 = np.array([9, 3, 7])\n",
    "\n",
    "v1.dot(v2)\n",
    "print(\"v1.dot(v2) {}\".format(v1.dot(v2)))\n",
    "\n",
    "# Dot Product of a Vector with Matrix.\n",
    "\n",
    "m1 = np.array([\n",
    "    [9, 1, 5],\n",
    "    [0, 3, 12],\n",
    "    [6, 11, -2]\n",
    "])\n",
    "\n",
    "\n",
    "print(\"m1.dot(v1) {}\".format(m1.dot(v1)))\n",
    "\n",
    "m2 = np.array([\n",
    "    [0, 1, 3],\n",
    "    [3, 0, 1],\n",
    "    [1, 3, 0]\n",
    "])\n",
    "\n",
    "print(\"m1.dot(m2) \\n{}\".format(m1.dot(m2)))"
   ]
  },
  {
   "cell_type": "code",
   "execution_count": 106,
   "metadata": {},
   "outputs": [
    {
     "name": "stdout",
     "output_type": "stream",
     "text": [
      "P \n",
      "[[  9  51   0   0]\n",
      " [ 41   0  50   9]\n",
      " [ 65   1   4  30]\n",
      " [  8  32  43  17]\n",
      " [-23 -24   3  44]]\n",
      "np.sum(P) 360\n",
      "np.sum(P, axis=0) [100  60 100 100]\n",
      "np.sum(P, axis=1) [ 60 100 100 100   0]\n"
     ]
    }
   ],
   "source": [
    "# Other utility functions in Numpy\n",
    "P = np.copy(L)\n",
    "\n",
    "print(\"P \\n{}\".format(P))\n",
    "print(\"np.sum(P) {}\".format(np.sum(P))) # Sum of all elements.\n",
    "print(\"np.sum(P, axis=0) {}\".format(np.sum(P, axis=0))) # Sum of rows. Columwise Addtion.\n",
    "print(\"np.sum(P, axis=1) {}\".format(np.sum(P, axis=1))) # Row wise Addition."
   ]
  },
  {
   "cell_type": "code",
   "execution_count": 108,
   "metadata": {},
   "outputs": [
    {
     "name": "stdout",
     "output_type": "stream",
     "text": [
      "Q \n",
      "[[ 8  9  3]\n",
      " [12 11 17]]\n",
      "Q.T (Transpose of Q) \n",
      "[[ 8 12]\n",
      " [ 9 11]\n",
      " [ 3 17]]\n"
     ]
    }
   ],
   "source": [
    "# Transpose of an Array.\n",
    "Q = np.array([\n",
    "    [8, 9, 3],\n",
    "    [12, 11, 17]\n",
    "])\n",
    "\n",
    "print(\"Q \\n{}\".format(Q))\n",
    "print(\"Q.T (Transpose of Q) \\n{}\".format(Q.T))\n"
   ]
  },
  {
   "cell_type": "code",
   "execution_count": null,
   "metadata": {
    "collapsed": true
   },
   "outputs": [],
   "source": []
  }
 ],
 "metadata": {
  "kernelspec": {
   "display_name": "Python 2",
   "language": "python",
   "name": "python2"
  },
  "language_info": {
   "codemirror_mode": {
    "name": "ipython",
    "version": 2
   },
   "file_extension": ".py",
   "mimetype": "text/x-python",
   "name": "python",
   "nbconvert_exporter": "python",
   "pygments_lexer": "ipython2",
   "version": "2.7.13"
  }
 },
 "nbformat": 4,
 "nbformat_minor": 2
}
