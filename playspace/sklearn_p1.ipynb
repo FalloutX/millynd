{
 "cells": [
  {
   "cell_type": "markdown",
   "metadata": {},
   "source": [
    "### Introduction to scikit-learn."
   ]
  },
  {
   "cell_type": "code",
   "execution_count": 8,
   "metadata": {},
   "outputs": [
    {
     "name": "stdout",
     "output_type": "stream",
     "text": [
      "r2 score for our predictions is 0.649757567843\n"
     ]
    }
   ],
   "source": [
    "# Basic Linear Regression with boston housing data.\n",
    "from sklearn import metrics\n",
    "from sklearn import datasets\n",
    "from sklearn.linear_model import LinearRegression\n",
    "import pandas as pd\n",
    "\n",
    "\n",
    "\n",
    "housing_data = datasets.load_boston()\n",
    "\n",
    "linear_regression_model = LinearRegression()\n",
    "\n",
    "linear_regression_model.fit(housing_data.data, housing_data.target)\n",
    "\n",
    "# Making Predictions.\n",
    "predictions = linear_regression_model.predict(housing_data.data)\n",
    "\n",
    "score = metrics.r2_score(predictions, housing_data.target)\n",
    "\n",
    "print(\"r2 score for our predictions is {}\".format(score))\n"
   ]
  },
  {
   "cell_type": "code",
   "execution_count": 13,
   "metadata": {},
   "outputs": [
    {
     "name": "stdout",
     "output_type": "stream",
     "text": [
      "[0 2 1 0 2]\n"
     ]
    }
   ],
   "source": [
    "# Using LabelEncoder.\n",
    "from sklearn.preprocessing import LabelEncoder, OneHotEncoder\n",
    "people_df = pd.DataFrame({\n",
    "    'name': ['Ray', 'Adam', 'Jason', 'Varun', 'Xiao'],\n",
    "    'health':['fit', 'slim', 'obese', 'fit', 'slim']\n",
    "})\n",
    "\n",
    "label_encoder = LabelEncoder()\n",
    "label_encoder.fit(people_df['health'])\n",
    "label_encoded_data = label_encoder.transform(people_df['health'])\n",
    "print(label_encoded_data)"
   ]
  },
  {
   "cell_type": "code",
   "execution_count": 19,
   "metadata": {},
   "outputs": [
    {
     "name": "stdout",
     "output_type": "stream",
     "text": [
      "OneHotEncoder(categorical_features='all', dtype=<type 'numpy.float64'>,\n",
      "       handle_unknown='error', n_values='auto', sparse=True)\n"
     ]
    }
   ],
   "source": [
    "# Using OneHotEncoder.\n",
    "pd.get_dummies(people_df['health']) # In pandas.\n",
    "\n",
    "ohe = OneHotEncoder()\n",
    "ohe.fit_transform(label_encoded_data.reshape(-1,1))"
   ]
  },
  {
   "cell_type": "code",
   "execution_count": null,
   "metadata": {
    "collapsed": true
   },
   "outputs": [],
   "source": []
  }
 ],
 "metadata": {
  "kernelspec": {
   "display_name": "Python 2",
   "language": "python",
   "name": "python2"
  },
  "language_info": {
   "codemirror_mode": {
    "name": "ipython",
    "version": 2
   },
   "file_extension": ".py",
   "mimetype": "text/x-python",
   "name": "python",
   "nbconvert_exporter": "python",
   "pygments_lexer": "ipython2",
   "version": "2.7.13"
  }
 },
 "nbformat": 4,
 "nbformat_minor": 2
}
